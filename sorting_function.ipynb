{
 "cells": [
  {
   "cell_type": "code",
   "execution_count": 1,
   "id": "107b93fe",
   "metadata": {},
   "outputs": [],
   "source": [
    "def my_sorting(lisst):\n",
    "    for i in range(0,len(lisst)):\n",
    "        for j in range(i+1,len(lisst)):\n",
    "            if lisst[i]>lisst[j]:\n",
    "                temp = lisst[i]\n",
    "                lisst[i] = lisst[j]\n",
    "                lisst[j] = temp\n",
    "    return lisst"
   ]
  },
  {
   "cell_type": "code",
   "execution_count": 2,
   "id": "e2ef6ada",
   "metadata": {},
   "outputs": [
    {
     "data": {
      "text/plain": [
       "[1, 2, 4, 5, 7, 8]"
      ]
     },
     "execution_count": 2,
     "metadata": {},
     "output_type": "execute_result"
    }
   ],
   "source": [
    "my_sorting(lisst=[5,7,2,4,8,1])"
   ]
  },
  {
   "cell_type": "code",
   "execution_count": null,
   "id": "6c195ab2",
   "metadata": {},
   "outputs": [],
   "source": []
  }
 ],
 "metadata": {
  "kernelspec": {
   "display_name": "Python 3 (ipykernel)",
   "language": "python",
   "name": "python3"
  },
  "language_info": {
   "codemirror_mode": {
    "name": "ipython",
    "version": 3
   },
   "file_extension": ".py",
   "mimetype": "text/x-python",
   "name": "python",
   "nbconvert_exporter": "python",
   "pygments_lexer": "ipython3",
   "version": "3.9.7"
  }
 },
 "nbformat": 4,
 "nbformat_minor": 5
}
